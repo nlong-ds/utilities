{
 "cells": [
  {
   "cell_type": "code",
   "execution_count": 1,
   "metadata": {},
   "outputs": [],
   "source": [
    "import seaborn as sns"
   ]
  },
  {
   "cell_type": "code",
   "execution_count": 2,
   "metadata": {},
   "outputs": [
    {
     "data": {
      "text/plain": [
       "'0.11.2'"
      ]
     },
     "execution_count": 2,
     "metadata": {},
     "output_type": "execute_result"
    }
   ],
   "source": [
    "sns.__version__"
   ]
  },
  {
   "cell_type": "code",
   "execution_count": 3,
   "metadata": {},
   "outputs": [
    {
     "data": {
      "text/html": [
       "<div>\n",
       "<style scoped>\n",
       "    .dataframe tbody tr th:only-of-type {\n",
       "        vertical-align: middle;\n",
       "    }\n",
       "\n",
       "    .dataframe tbody tr th {\n",
       "        vertical-align: top;\n",
       "    }\n",
       "\n",
       "    .dataframe thead th {\n",
       "        text-align: right;\n",
       "    }\n",
       "</style>\n",
       "<table border=\"1\" class=\"dataframe\">\n",
       "  <thead>\n",
       "    <tr style=\"text-align: right;\">\n",
       "      <th></th>\n",
       "      <th>sepal length (cm)</th>\n",
       "      <th>sepal width (cm)</th>\n",
       "      <th>petal length (cm)</th>\n",
       "      <th>petal width (cm)</th>\n",
       "      <th>target</th>\n",
       "    </tr>\n",
       "  </thead>\n",
       "  <tbody>\n",
       "    <tr>\n",
       "      <th>0</th>\n",
       "      <td>5.1</td>\n",
       "      <td>3.5</td>\n",
       "      <td>1.4</td>\n",
       "      <td>0.2</td>\n",
       "      <td>0</td>\n",
       "    </tr>\n",
       "    <tr>\n",
       "      <th>1</th>\n",
       "      <td>4.9</td>\n",
       "      <td>3.0</td>\n",
       "      <td>1.4</td>\n",
       "      <td>0.2</td>\n",
       "      <td>0</td>\n",
       "    </tr>\n",
       "    <tr>\n",
       "      <th>2</th>\n",
       "      <td>4.7</td>\n",
       "      <td>3.2</td>\n",
       "      <td>1.3</td>\n",
       "      <td>0.2</td>\n",
       "      <td>0</td>\n",
       "    </tr>\n",
       "    <tr>\n",
       "      <th>3</th>\n",
       "      <td>4.6</td>\n",
       "      <td>3.1</td>\n",
       "      <td>1.5</td>\n",
       "      <td>0.2</td>\n",
       "      <td>0</td>\n",
       "    </tr>\n",
       "    <tr>\n",
       "      <th>4</th>\n",
       "      <td>5.0</td>\n",
       "      <td>3.6</td>\n",
       "      <td>1.4</td>\n",
       "      <td>0.2</td>\n",
       "      <td>0</td>\n",
       "    </tr>\n",
       "  </tbody>\n",
       "</table>\n",
       "</div>"
      ],
      "text/plain": [
       "   sepal length (cm)  sepal width (cm)  petal length (cm)  petal width (cm)  \\\n",
       "0                5.1               3.5                1.4               0.2   \n",
       "1                4.9               3.0                1.4               0.2   \n",
       "2                4.7               3.2                1.3               0.2   \n",
       "3                4.6               3.1                1.5               0.2   \n",
       "4                5.0               3.6                1.4               0.2   \n",
       "\n",
       "   target  \n",
       "0       0  \n",
       "1       0  \n",
       "2       0  \n",
       "3       0  \n",
       "4       0  "
      ]
     },
     "execution_count": 3,
     "metadata": {},
     "output_type": "execute_result"
    }
   ],
   "source": [
    "import seaborn as sns\n",
    "import matplotlib.pyplot as plt\n",
    "import numpy as np\n",
    "import pandas as pd\n",
    "from sklearn import datasets\n",
    "# import some data to play with\n",
    "\n",
    "def sklearn_to_df(sklearn_dataset):\n",
    "    df = pd.DataFrame(sklearn_dataset.data, columns=sklearn_dataset.feature_names)\n",
    "    df['target'] = pd.Series(sklearn_dataset.target)\n",
    "    return df\n",
    "\n",
    "df_iris = sklearn_to_df(datasets.load_iris())\n",
    "df_iris.head()"
   ]
  },
  {
   "cell_type": "code",
   "execution_count": 4,
   "metadata": {},
   "outputs": [],
   "source": [
    "mapping = dict(zip([0,1,2], datasets.load_iris()['target_names']))\n",
    "df_iris['target_label'] = df_iris['target'].map(mapping)"
   ]
  },
  {
   "cell_type": "code",
   "execution_count": 5,
   "metadata": {},
   "outputs": [],
   "source": [
    "setosa = df_iris[df_iris['target_label'] == 'setosa']\n",
    "versicolor = df_iris[df_iris['target_label'] == 'versicolor']"
   ]
  },
  {
   "cell_type": "code",
   "execution_count": 6,
   "metadata": {},
   "outputs": [],
   "source": [
    "setosa_sl = setosa['sepal length (cm)']\n",
    "versicolor_sl = versicolor['sepal length (cm)']"
   ]
  },
  {
   "cell_type": "code",
   "execution_count": 7,
   "metadata": {},
   "outputs": [],
   "source": [
    "def full_permutation_test(control, variant, nreps, tail, viz = False, seed = 42):\n",
    "    \n",
    "    if tail not in ['left', 'right', 'two']:\n",
    "        raise ValueError(\"results: status must be one in ['left', 'right'].\")\n",
    "    if tail == 'left':\n",
    "        condition = 'lower'\n",
    "    elif tail == 'right':\n",
    "        condition = 'higher'\n",
    "    else:\n",
    "        condition = ''\n",
    "    \n",
    "    np.random.seed(seed)\n",
    "    #difference of means: H0 is that belonging to the variant group does not improve the chosen metric\n",
    "    test_stat = np.mean(variant) - np.mean(control)\n",
    "    permuted_means = []\n",
    "    p_more_extreme_values = 0\n",
    "    \n",
    "    #len indexes\n",
    "    idx_c = len(control)\n",
    "    idx_v = len(variant)\n",
    "    \n",
    "    #prepare permutations\n",
    "    for i in range(nreps):\n",
    "        #pull the two lists together and shuffle them\n",
    "        joined = np.concatenate((control,variant), axis=0)\n",
    "        shuffled = np.random.permutation(joined)\n",
    "        \n",
    "        #define the two groups, whose length was assessed out of loop\n",
    "        sim_c = shuffled[:idx_c]\n",
    "        sim_v = shuffled[idx_c:] \n",
    "       \n",
    "        #calculate test statistic and append to results list\n",
    "        if tail == 'two':\n",
    "            sim_stat = abs(np.mean(sim_c) - np.mean(sim_v))\n",
    "        else: \n",
    "            sim_stat = np.mean(sim_v) - np.mean(sim_c)\n",
    "        \n",
    "        permuted_means.append(sim_stat)        \n",
    "        \n",
    "        # Defining the probability according to the direction of the test:\n",
    "        # if H0 is based on variant results not being HIGHER than control results, \n",
    "        # p_more_extreme_values increases if we observe values higher than the test stat.\n",
    "        # if H0 is based on variant results not being LOWER than control results, \n",
    "        # p_more_extreme_values increases if we observe values lower than the test stat.\n",
    "\n",
    "        if tail == 'left':\n",
    "            if sim_stat <= test_stat:\n",
    "                p_more_extreme_values += 1    \n",
    "        elif tail in str(['two','right']):\n",
    "            if sim_stat >= test_stat:\n",
    "                p_more_extreme_values += 1\n",
    "    \n",
    "    #set up a series that contains nreps permuted mean differences\n",
    "    p = p_more_extreme_values / nreps   \n",
    "    output = pd.Series(permuted_means, name='permuted_mean_differences') \n",
    "    \n",
    "    if viz == True:\n",
    "        sns.histplot(x = 'permuted_mean_differences', kde = True, data = output.to_frame())\n",
    "        plt.xlabel('permuted mean differences')\n",
    "        plt.axvline(test_stat,\n",
    "                    label=f'Original Mean difference = {round(test_stat,2)}', \n",
    "                    c ='red')\n",
    "        plt.axvline(np.mean(output),\n",
    "                    label=f'Permuted Mean difference = {round(np.mean(output),2)}', \n",
    "                    c ='blue')\n",
    "        plt.legend()\n",
    "    \n",
    "    print(f'The probability of observing values more extreme ({condition}) than {round(test_stat,2)} is {p}')\n",
    "    return output "
   ]
  },
  {
   "cell_type": "code",
   "execution_count": 8,
   "metadata": {},
   "outputs": [
    {
     "name": "stdout",
     "output_type": "stream",
     "text": [
      "The probability of observing values more extreme () than 0.93 is 0.0\n"
     ]
    },
    {
     "data": {
      "text/plain": [
       "0      0.198\n",
       "1      0.286\n",
       "2      0.122\n",
       "3      0.010\n",
       "4      0.114\n",
       "       ...  \n",
       "995    0.262\n",
       "996    0.274\n",
       "997    0.026\n",
       "998    0.134\n",
       "999    0.022\n",
       "Name: permuted_mean_differences, Length: 1000, dtype: float64"
      ]
     },
     "execution_count": 8,
     "metadata": {},
     "output_type": "execute_result"
    },
    {
     "data": {
      "image/png": "[encoded data removed]",
      "text/plain": [
       "<Figure size 432x288 with 1 Axes>"
      ]
     },
     "metadata": {
      "needs_background": "light"
     },
     "output_type": "display_data"
    }
   ],
   "source": [
    "full_permutation_test(setosa_sl, versicolor_sl, 1000, tail='two', viz=True)"
   ]
  },
  {
   "cell_type": "code",
   "execution_count": 9,
   "metadata": {},
   "outputs": [],
   "source": [
    "from statsmodels.stats.proportion import proportions_chisquare\n",
    "def chisquare_with_residuals(ft):\n",
    "    # reference: https://scholarworks.umass.edu/cgi/viewcontent.cgi?article=1269&context=pare\n",
    "    nrows = ft.shape[0]\n",
    "    count = ft[1]\n",
    "    nobs = (ft[0] + ft[1])\n",
    "    chisq = proportions_chisquare(count, nobs)\n",
    "    #calculating residuals: observed\n",
    "    observed = chisq[2][0].T[0]\n",
    "    expected = chisq[2][1].T[0]\n",
    "    residuals = observed - expected\n",
    "    std_res = residuals / np.sqrt(expected)\n",
    "\n",
    "    #adjusted residuals\n",
    "    row_marginals = ft[1] #nobs\n",
    "    column_marginals = ft.sum()[1]\n",
    "    n = ft.sum().sum()\n",
    "    adj_residuals = (observed - expected) / np.sqrt(expected*(1-row_marginals/n)*(1-column_marginals/n))\n",
    "    \n",
    "    concat = np.concatenate([observed,expected,residuals,std_res, adj_residuals]).reshape(-1,nrows)\n",
    "    output = pd.DataFrame(np.transpose(concat), index=ft.index, \n",
    "                          columns=['observed','expected','residuals','std_residual','adj_std_res']\n",
    "                         )\n",
    "    return output"
   ]
  },
  {
   "cell_type": "code",
   "execution_count": 10,
   "metadata": {},
   "outputs": [
    {
     "data": {
      "text/html": [
       "<div>\n",
       "<style scoped>\n",
       "    .dataframe tbody tr th:only-of-type {\n",
       "        vertical-align: middle;\n",
       "    }\n",
       "\n",
       "    .dataframe tbody tr th {\n",
       "        vertical-align: top;\n",
       "    }\n",
       "\n",
       "    .dataframe thead th {\n",
       "        text-align: right;\n",
       "    }\n",
       "</style>\n",
       "<table border=\"1\" class=\"dataframe\">\n",
       "  <thead>\n",
       "    <tr style=\"text-align: right;\">\n",
       "      <th></th>\n",
       "      <th>survived</th>\n",
       "      <th>pclass</th>\n",
       "      <th>sex</th>\n",
       "      <th>age</th>\n",
       "      <th>sibsp</th>\n",
       "      <th>parch</th>\n",
       "      <th>fare</th>\n",
       "      <th>embarked</th>\n",
       "      <th>class</th>\n",
       "      <th>who</th>\n",
       "      <th>adult_male</th>\n",
       "      <th>deck</th>\n",
       "      <th>embark_town</th>\n",
       "      <th>alive</th>\n",
       "      <th>alone</th>\n",
       "    </tr>\n",
       "  </thead>\n",
       "  <tbody>\n",
       "    <tr>\n",
       "      <th>0</th>\n",
       "      <td>0</td>\n",
       "      <td>3</td>\n",
       "      <td>male</td>\n",
       "      <td>22.0</td>\n",
       "      <td>1</td>\n",
       "      <td>0</td>\n",
       "      <td>7.2500</td>\n",
       "      <td>S</td>\n",
       "      <td>Third</td>\n",
       "      <td>man</td>\n",
       "      <td>True</td>\n",
       "      <td>NaN</td>\n",
       "      <td>Southampton</td>\n",
       "      <td>no</td>\n",
       "      <td>False</td>\n",
       "    </tr>\n",
       "    <tr>\n",
       "      <th>1</th>\n",
       "      <td>1</td>\n",
       "      <td>1</td>\n",
       "      <td>female</td>\n",
       "      <td>38.0</td>\n",
       "      <td>1</td>\n",
       "      <td>0</td>\n",
       "      <td>71.2833</td>\n",
       "      <td>C</td>\n",
       "      <td>First</td>\n",
       "      <td>woman</td>\n",
       "      <td>False</td>\n",
       "      <td>C</td>\n",
       "      <td>Cherbourg</td>\n",
       "      <td>yes</td>\n",
       "      <td>False</td>\n",
       "    </tr>\n",
       "    <tr>\n",
       "      <th>2</th>\n",
       "      <td>1</td>\n",
       "      <td>3</td>\n",
       "      <td>female</td>\n",
       "      <td>26.0</td>\n",
       "      <td>0</td>\n",
       "      <td>0</td>\n",
       "      <td>7.9250</td>\n",
       "      <td>S</td>\n",
       "      <td>Third</td>\n",
       "      <td>woman</td>\n",
       "      <td>False</td>\n",
       "      <td>NaN</td>\n",
       "      <td>Southampton</td>\n",
       "      <td>yes</td>\n",
       "      <td>True</td>\n",
       "    </tr>\n",
       "    <tr>\n",
       "      <th>3</th>\n",
       "      <td>1</td>\n",
       "      <td>1</td>\n",
       "      <td>female</td>\n",
       "      <td>35.0</td>\n",
       "      <td>1</td>\n",
       "      <td>0</td>\n",
       "      <td>53.1000</td>\n",
       "      <td>S</td>\n",
       "      <td>First</td>\n",
       "      <td>woman</td>\n",
       "      <td>False</td>\n",
       "      <td>C</td>\n",
       "      <td>Southampton</td>\n",
       "      <td>yes</td>\n",
       "      <td>False</td>\n",
       "    </tr>\n",
       "    <tr>\n",
       "      <th>4</th>\n",
       "      <td>0</td>\n",
       "      <td>3</td>\n",
       "      <td>male</td>\n",
       "      <td>35.0</td>\n",
       "      <td>0</td>\n",
       "      <td>0</td>\n",
       "      <td>8.0500</td>\n",
       "      <td>S</td>\n",
       "      <td>Third</td>\n",
       "      <td>man</td>\n",
       "      <td>True</td>\n",
       "      <td>NaN</td>\n",
       "      <td>Southampton</td>\n",
       "      <td>no</td>\n",
       "      <td>True</td>\n",
       "    </tr>\n",
       "  </tbody>\n",
       "</table>\n",
       "</div>"
      ],
      "text/plain": [
       "   survived  pclass     sex   age  sibsp  parch     fare embarked  class  \\\n",
       "0         0       3    male  22.0      1      0   7.2500        S  Third   \n",
       "1         1       1  female  38.0      1      0  71.2833        C  First   \n",
       "2         1       3  female  26.0      0      0   7.9250        S  Third   \n",
       "3         1       1  female  35.0      1      0  53.1000        S  First   \n",
       "4         0       3    male  35.0      0      0   8.0500        S  Third   \n",
       "\n",
       "     who  adult_male deck  embark_town alive  alone  \n",
       "0    man        True  NaN  Southampton    no  False  \n",
       "1  woman       False    C    Cherbourg   yes  False  \n",
       "2  woman       False  NaN  Southampton   yes   True  \n",
       "3  woman       False    C  Southampton   yes  False  \n",
       "4    man        True  NaN  Southampton    no   True  "
      ]
     },
     "execution_count": 10,
     "metadata": {},
     "output_type": "execute_result"
    }
   ],
   "source": [
    "df_titanic = sns.load_dataset('titanic')\n",
    "df_titanic.head()"
   ]
  },
  {
   "cell_type": "code",
   "execution_count": 11,
   "metadata": {},
   "outputs": [],
   "source": [
    "tt = pd.pivot_table(df_titanic, index='class', columns='survived', values='alive', aggfunc='count')"
   ]
  },
  {
   "cell_type": "code",
   "execution_count": 12,
   "metadata": {},
   "outputs": [
    {
     "data": {
      "text/html": [
       "<div>\n",
       "<style scoped>\n",
       "    .dataframe tbody tr th:only-of-type {\n",
       "        vertical-align: middle;\n",
       "    }\n",
       "\n",
       "    .dataframe tbody tr th {\n",
       "        vertical-align: top;\n",
       "    }\n",
       "\n",
       "    .dataframe thead th {\n",
       "        text-align: right;\n",
       "    }\n",
       "</style>\n",
       "<table border=\"1\" class=\"dataframe\">\n",
       "  <thead>\n",
       "    <tr style=\"text-align: right;\">\n",
       "      <th>survived</th>\n",
       "      <th>0</th>\n",
       "      <th>1</th>\n",
       "    </tr>\n",
       "    <tr>\n",
       "      <th>class</th>\n",
       "      <th></th>\n",
       "      <th></th>\n",
       "    </tr>\n",
       "  </thead>\n",
       "  <tbody>\n",
       "    <tr>\n",
       "      <th>First</th>\n",
       "      <td>80</td>\n",
       "      <td>136</td>\n",
       "    </tr>\n",
       "    <tr>\n",
       "      <th>Second</th>\n",
       "      <td>97</td>\n",
       "      <td>87</td>\n",
       "    </tr>\n",
       "    <tr>\n",
       "      <th>Third</th>\n",
       "      <td>372</td>\n",
       "      <td>119</td>\n",
       "    </tr>\n",
       "  </tbody>\n",
       "</table>\n",
       "</div>"
      ],
      "text/plain": [
       "survived    0    1\n",
       "class             \n",
       "First      80  136\n",
       "Second     97   87\n",
       "Third     372  119"
      ]
     },
     "execution_count": 12,
     "metadata": {},
     "output_type": "execute_result"
    }
   ],
   "source": [
    "tt"
   ]
  },
  {
   "cell_type": "code",
   "execution_count": 13,
   "metadata": {},
   "outputs": [
    {
     "data": {
      "text/plain": [
       "(102.88898875696057,\n",
       " 4.5492517112987287e-23,\n",
       " (array([[136,  80],\n",
       "         [ 87,  97],\n",
       "         [119, 372]], dtype=int64),\n",
       "  array([[ 82.90909091, 133.09090909],\n",
       "         [ 70.62626263, 113.37373737],\n",
       "         [188.46464646, 302.53535354]])))"
      ]
     },
     "execution_count": 13,
     "metadata": {},
     "output_type": "execute_result"
    }
   ],
   "source": [
    "from statsmodels.stats.proportion import proportions_chisquare\n",
    "\n",
    "count = tt[1]\n",
    "nobs = (tt[1]+tt[0])\n",
    "proportions_chisquare(count, nobs)"
   ]
  },
  {
   "cell_type": "code",
   "execution_count": 14,
   "metadata": {},
   "outputs": [
    {
     "data": {
      "text/html": [
       "<div>\n",
       "<style scoped>\n",
       "    .dataframe tbody tr th:only-of-type {\n",
       "        vertical-align: middle;\n",
       "    }\n",
       "\n",
       "    .dataframe tbody tr th {\n",
       "        vertical-align: top;\n",
       "    }\n",
       "\n",
       "    .dataframe thead th {\n",
       "        text-align: right;\n",
       "    }\n",
       "</style>\n",
       "<table border=\"1\" class=\"dataframe\">\n",
       "  <thead>\n",
       "    <tr style=\"text-align: right;\">\n",
       "      <th></th>\n",
       "      <th>observed</th>\n",
       "      <th>expected</th>\n",
       "      <th>residuals</th>\n",
       "      <th>std_residual</th>\n",
       "      <th>adj_std_res</th>\n",
       "    </tr>\n",
       "    <tr>\n",
       "      <th>class</th>\n",
       "      <th></th>\n",
       "      <th></th>\n",
       "      <th></th>\n",
       "      <th></th>\n",
       "      <th></th>\n",
       "    </tr>\n",
       "  </thead>\n",
       "  <tbody>\n",
       "    <tr>\n",
       "      <th>First</th>\n",
       "      <td>136.0</td>\n",
       "      <td>82.909091</td>\n",
       "      <td>53.090909</td>\n",
       "      <td>5.830678</td>\n",
       "      <td>8.069324</td>\n",
       "    </tr>\n",
       "    <tr>\n",
       "      <th>Second</th>\n",
       "      <td>87.0</td>\n",
       "      <td>70.626263</td>\n",
       "      <td>16.373737</td>\n",
       "      <td>1.948340</td>\n",
       "      <td>2.612933</td>\n",
       "    </tr>\n",
       "    <tr>\n",
       "      <th>Third</th>\n",
       "      <td>119.0</td>\n",
       "      <td>188.464646</td>\n",
       "      <td>-69.464646</td>\n",
       "      <td>-5.059981</td>\n",
       "      <td>-6.925191</td>\n",
       "    </tr>\n",
       "  </tbody>\n",
       "</table>\n",
       "</div>"
      ],
      "text/plain": [
       "        observed    expected  residuals  std_residual  adj_std_res\n",
       "class                                                             \n",
       "First      136.0   82.909091  53.090909      5.830678     8.069324\n",
       "Second      87.0   70.626263  16.373737      1.948340     2.612933\n",
       "Third      119.0  188.464646 -69.464646     -5.059981    -6.925191"
      ]
     },
     "execution_count": 14,
     "metadata": {},
     "output_type": "execute_result"
    }
   ],
   "source": [
    "chisquare_with_residuals(tt)"
   ]
  },
  {
   "cell_type": "code",
   "execution_count": 15,
   "metadata": {},
   "outputs": [
    {
     "data": {
      "text/html": [
       "<div>\n",
       "<style scoped>\n",
       "    .dataframe tbody tr th:only-of-type {\n",
       "        vertical-align: middle;\n",
       "    }\n",
       "\n",
       "    .dataframe tbody tr th {\n",
       "        vertical-align: top;\n",
       "    }\n",
       "\n",
       "    .dataframe thead th {\n",
       "        text-align: right;\n",
       "    }\n",
       "</style>\n",
       "<table border=\"1\" class=\"dataframe\">\n",
       "  <thead>\n",
       "    <tr style=\"text-align: right;\">\n",
       "      <th></th>\n",
       "      <th>0</th>\n",
       "      <th>1</th>\n",
       "    </tr>\n",
       "  </thead>\n",
       "  <tbody>\n",
       "    <tr>\n",
       "      <th>treat1</th>\n",
       "      <td>3211</td>\n",
       "      <td>1282</td>\n",
       "    </tr>\n",
       "    <tr>\n",
       "      <th>treat2</th>\n",
       "      <td>3240</td>\n",
       "      <td>1193</td>\n",
       "    </tr>\n",
       "    <tr>\n",
       "      <th>control</th>\n",
       "      <td>1015</td>\n",
       "      <td>320</td>\n",
       "    </tr>\n",
       "  </tbody>\n",
       "</table>\n",
       "</div>"
      ],
      "text/plain": [
       "            0     1\n",
       "treat1   3211  1282\n",
       "treat2   3240  1193\n",
       "control  1015   320"
      ]
     },
     "execution_count": 15,
     "metadata": {},
     "output_type": "execute_result"
    }
   ],
   "source": [
    "agadan = pd.DataFrame(index=['treat1', 'treat2', 'control'], columns=[0,1], data=[[3211, 1282],\n",
    "                                                                                       [3240, 1193],\n",
    "                                                                                       [1015, 320]\n",
    "                                                                                      ])\n",
    "agadan"
   ]
  },
  {
   "cell_type": "code",
   "execution_count": 16,
   "metadata": {},
   "outputs": [
    {
     "data": {
      "text/plain": [
       "(11.234950930188084,\n",
       " 0.003633803202112845,\n",
       " (array([[1282, 3211],\n",
       "         [1193, 3240],\n",
       "         [ 320, 1015]], dtype=int64),\n",
       "  array([[1223.85098918, 3269.14901082],\n",
       "         [1207.50755287, 3225.49244713],\n",
       "         [ 363.64145795,  971.35854205]])))"
      ]
     },
     "execution_count": 16,
     "metadata": {},
     "output_type": "execute_result"
    }
   ],
   "source": [
    "from statsmodels.stats.proportion import proportions_chisquare\n",
    "\n",
    "count = agadan[1]\n",
    "nobs = (agadan[1]+agadan[0])\n",
    "proportions_chisquare(count, nobs)"
   ]
  },
  {
   "cell_type": "code",
   "execution_count": 17,
   "metadata": {},
   "outputs": [
    {
     "data": {
      "text/html": [
       "<div>\n",
       "<style scoped>\n",
       "    .dataframe tbody tr th:only-of-type {\n",
       "        vertical-align: middle;\n",
       "    }\n",
       "\n",
       "    .dataframe tbody tr th {\n",
       "        vertical-align: top;\n",
       "    }\n",
       "\n",
       "    .dataframe thead th {\n",
       "        text-align: right;\n",
       "    }\n",
       "</style>\n",
       "<table border=\"1\" class=\"dataframe\">\n",
       "  <thead>\n",
       "    <tr style=\"text-align: right;\">\n",
       "      <th></th>\n",
       "      <th>observed</th>\n",
       "      <th>expected</th>\n",
       "      <th>residuals</th>\n",
       "      <th>std_residual</th>\n",
       "      <th>adj_std_res</th>\n",
       "    </tr>\n",
       "  </thead>\n",
       "  <tbody>\n",
       "    <tr>\n",
       "      <th>treat1</th>\n",
       "      <td>1282.0</td>\n",
       "      <td>1223.850989</td>\n",
       "      <td>58.149011</td>\n",
       "      <td>1.662180</td>\n",
       "      <td>2.083098</td>\n",
       "    </tr>\n",
       "    <tr>\n",
       "      <th>treat2</th>\n",
       "      <td>1193.0</td>\n",
       "      <td>1207.507553</td>\n",
       "      <td>-14.507553</td>\n",
       "      <td>-0.417493</td>\n",
       "      <td>-0.520642</td>\n",
       "    </tr>\n",
       "    <tr>\n",
       "      <th>control</th>\n",
       "      <td>320.0</td>\n",
       "      <td>363.641458</td>\n",
       "      <td>-43.641458</td>\n",
       "      <td>-2.288561</td>\n",
       "      <td>-2.725795</td>\n",
       "    </tr>\n",
       "  </tbody>\n",
       "</table>\n",
       "</div>"
      ],
      "text/plain": [
       "         observed     expected  residuals  std_residual  adj_std_res\n",
       "treat1     1282.0  1223.850989  58.149011      1.662180     2.083098\n",
       "treat2     1193.0  1207.507553 -14.507553     -0.417493    -0.520642\n",
       "control     320.0   363.641458 -43.641458     -2.288561    -2.725795"
      ]
     },
     "execution_count": 17,
     "metadata": {},
     "output_type": "execute_result"
    }
   ],
   "source": [
    "chisquare_with_residuals(agadan)"
   ]
  }
 ],
 "metadata": {
  "kernelspec": {
   "display_name": "Python 3",
   "language": "python",
   "name": "python3"
  },
  "language_info": {
   "codemirror_mode": {
    "name": "ipython",
    "version": 3
   },
   "file_extension": ".py",
   "mimetype": "text/x-python",
   "name": "python",
   "nbconvert_exporter": "python",
   "pygments_lexer": "ipython3",
   "version": "3.7.9"
  }
 },
 "nbformat": 4,
 "nbformat_minor": 4
}
